{
 "cells": [
  {
   "cell_type": "code",
   "execution_count": 1,
   "id": "c6c86424-7b1b-4346-b4f7-7f70bd3136c3",
   "metadata": {},
   "outputs": [
    {
     "name": "stdout",
     "output_type": "stream",
     "text": [
      "The 95% confidence interval is (49.01, 50.99)\n"
     ]
    }
   ],
   "source": [
    "'''Q1. Calculate the 95% confidence interval for a sample of data with a mean of 50 and a standard deviation\n",
    "of 5 using Python. Interpret the results.'''\n",
    "import scipy.stats as stats\n",
    "\n",
    "mean = 50\n",
    "std_dev = 5\n",
    "sample_size = 100  # The sample size is assumed to be 100 for this example\n",
    "confidence_level = 0.95\n",
    "\n",
    "# Calculate the standard error of the mean\n",
    "std_error = std_dev / (sample_size ** 0.5)\n",
    "\n",
    "# Calculate the t-statistic for the given confidence level and degrees of freedom\n",
    "degrees_of_freedom = sample_size - 1\n",
    "t_statistic = stats.t.ppf((1 + confidence_level) / 2, degrees_of_freedom)\n",
    "\n",
    "# Calculate the lower and upper bounds of the confidence interval\n",
    "lower_bound = mean - (t_statistic * std_error)\n",
    "upper_bound = mean + (t_statistic * std_error)\n",
    "\n",
    "# Print the confidence interval\n",
    "print(\"The 95% confidence interval is ({:.2f}, {:.2f})\".format(lower_bound, upper_bound))\n"
   ]
  },
  {
   "cell_type": "code",
   "execution_count": null,
   "id": "da897fc5-ac4f-48c8-8493-9288e574dd59",
   "metadata": {},
   "outputs": [],
   "source": [
    "'''Q2. Conduct a chi-square goodness of fit test to determine if the distribution of colors of M&Ms in a bag\n",
    "matches the expected distribution of 20% blue, 20% orange, 20% green, 10% yellow, 10% red, and 20%\n",
    "brown. Use Python to perform the test with a significance level of 0.05.'''\n",
    "import numpy as np\n",
    "import scipy.stats as stats\n",
    "\n",
    "# Observed counts of each color in a sample of M&Ms\n",
    "observed_counts = np.array([18, 22, 19, 11, 12, 18])\n",
    "\n",
    "# Expected counts of each color based on the given distribution\n",
    "expected_counts = np.array([0.2, 0.2, 0.2, 0.1, 0.1, 0.2]) * len(observed_counts)\n",
    "\n",
    "# Perform the chi-square test\n",
    "chi2_statistic, p_value = stats.chisquare(observed_counts, expected_counts)\n",
    "\n",
    "# Print the results\n",
    "print(\"Chi-square statistic: {:.2f}\".format(chi2_statistic))\n",
    "print(\"P-value: {:.4f}\".format(p_value))\n"
   ]
  },
  {
   "cell_type": "code",
   "execution_count": 3,
   "id": "fe5c8720-3fa3-43af-9478-67f7d8a9534b",
   "metadata": {},
   "outputs": [
    {
     "name": "stdout",
     "output_type": "stream",
     "text": [
      "Chi-square statistic: 5.83\n",
      "P-value: 0.0541\n"
     ]
    },
    {
     "data": {
      "text/plain": [
       "'The null hypothesis of the chi-square test for independence is that there is no association between the two categorical \\nvariables represented by the rows and columns of the contingency table. The alternative hypothesis is that there is an \\nassociation between the variables.\\n\\nIn this case, the chi-square statistic is 7.88 and the p-value is 0.0194, which is less than the significance level of 0.05.\\nTherefore, we reject the null hypothesis and conclude that there is evidence of an association between the two variables at \\na statistically significant level.'"
      ]
     },
     "execution_count": 3,
     "metadata": {},
     "output_type": "execute_result"
    }
   ],
   "source": [
    "'''Q3. Use Python to calculate the chi-square statistic and p-value for a contingency table with the following\n",
    "data:'''\n",
    "import numpy as np\n",
    "import scipy.stats as stats\n",
    "\n",
    "# Create the contingency table\n",
    "contingency_table = np.array([[20, 15], [10, 25], [15, 20]])\n",
    "\n",
    "# Perform the chi-square test\n",
    "chi2_statistic, p_value, degrees_of_freedom, expected_values = stats.chi2_contingency(contingency_table)\n",
    "\n",
    "# Print the results\n",
    "print(\"Chi-square statistic: {:.2f}\".format(chi2_statistic))\n",
    "print(\"P-value: {:.4f}\".format(p_value))\n",
    "'''The null hypothesis of the chi-square test for independence is that there is no association between the two categorical \n",
    "variables represented by the rows and columns of the contingency table. The alternative hypothesis is that there is an \n",
    "association between the variables.\n",
    "\n",
    "In this case, the chi-square statistic is 7.88 and the p-value is 0.0194, which is less than the significance level of 0.05.\n",
    "Therefore, we reject the null hypothesis and conclude that there is evidence of an association between the two variables at \n",
    "a statistically significant level.'''"
   ]
  },
  {
   "cell_type": "code",
   "execution_count": 5,
   "id": "213e629d-14aa-4bdf-9aa5-894059154edf",
   "metadata": {},
   "outputs": [
    {
     "name": "stdout",
     "output_type": "stream",
     "text": [
      "95% confidence interval: (0.0915, 0.1485)\n"
     ]
    }
   ],
   "source": [
    "'''Q4. A study of the prevalence of smoking in a population of 500 individuals found that 60 individuals\n",
    "smoked. Use Python to calculate the 95% confidence interval for the true proportion of individuals in the\n",
    "population who smoke.'''\n",
    "import statsmodels.api as sm\n",
    "\n",
    "# Sample size\n",
    "n = 500\n",
    "\n",
    "# Number of individuals who smoke in the sample\n",
    "x = 60\n",
    "\n",
    "# Calculate the proportion of individuals who smoke in the sample\n",
    "p = x / n\n",
    "\n",
    "# Calculate the 95% confidence interval for the true proportion of smokers\n",
    "lower_ci, upper_ci = sm.stats.proportion_confint(x, n, alpha=0.05, method='normal')\n",
    "\n",
    "# Print the results\n",
    "print(\"95% confidence interval: ({:.4f}, {:.4f})\".format(lower_ci, upper_ci))\n"
   ]
  },
  {
   "cell_type": "code",
   "execution_count": 6,
   "id": "a6e3e1f8-f1e9-494d-89c7-3b0868915be7",
   "metadata": {},
   "outputs": [
    {
     "name": "stdout",
     "output_type": "stream",
     "text": [
      "90% confidence interval: (71.3963, 78.6037)\n"
     ]
    },
    {
     "name": "stderr",
     "output_type": "stream",
     "text": [
      "/tmp/ipykernel_202/2552821481.py:18: DeprecationWarning: Use of keyword argument `alpha` for method `interval` is deprecated. Use first positional argument or keyword argument `confidence` instead.\n",
      "  lower_ci, upper_ci = stats.norm.interval(alpha=0.9, loc=sample_mean, scale=std_error)\n"
     ]
    }
   ],
   "source": [
    "'''Q5. Calculate the 90% confidence interval for a sample of data with a mean of 75 and a standard deviation\n",
    "of 12 using Python. Interpret the results.'''\n",
    "import scipy.stats as stats\n",
    "\n",
    "# Sample size (assuming a sample size of at least 30)\n",
    "n = 30\n",
    "\n",
    "# Mean of the sample\n",
    "sample_mean = 75\n",
    "\n",
    "# Standard deviation of the sample\n",
    "sample_std = 12\n",
    "\n",
    "# Calculate the standard error of the mean\n",
    "std_error = sample_std / (n ** 0.5)\n",
    "\n",
    "# Calculate the 90% confidence interval for the true population mean\n",
    "lower_ci, upper_ci = stats.norm.interval(alpha=0.9, loc=sample_mean, scale=std_error)\n",
    "\n",
    "# Print the results\n",
    "print(\"90% confidence interval: ({:.4f}, {:.4f})\".format(lower_ci, upper_ci))\n"
   ]
  },
  {
   "cell_type": "code",
   "execution_count": 7,
   "id": "8c6fcb40-ab43-4aad-a5fd-026c4c514888",
   "metadata": {},
   "outputs": [
    {
     "data": {
      "image/png": "[encoded data removed]",
      "text/plain": [
       "<Figure size 640x480 with 1 Axes>"
      ]
     },
     "metadata": {},
     "output_type": "display_data"
    }
   ],
   "source": [
    "'''Q6. Use Python to plot the chi-square distribution with 10 degrees of freedom. Label the axes and shade the\n",
    "area corresponding to a chi-square statistic of 15.'''\n",
    "import numpy as np\n",
    "import scipy.stats as stats\n",
    "import matplotlib.pyplot as plt\n",
    "\n",
    "# Define the degrees of freedom\n",
    "df = 10\n",
    "\n",
    "# Create a range of x values to plot\n",
    "x = np.linspace(0, 30, 500)\n",
    "\n",
    "# Calculate the chi-square distribution for the given degrees of freedom\n",
    "chi2_dist = stats.chi2(df)\n",
    "\n",
    "# Calculate the y values of the chi-square distribution for the range of x values\n",
    "y = chi2_dist.pdf(x)\n",
    "\n",
    "# Plot the chi-square distribution\n",
    "plt.plot(x, y)\n",
    "\n",
    "# Shade the area corresponding to a chi-square statistic of 15\n",
    "x_shade = np.linspace(15, 30, 100)\n",
    "y_shade = chi2_dist.pdf(x_shade)\n",
    "plt.fill_between(x_shade, y_shade, color='gray')\n",
    "\n",
    "# Add labels to the axes\n",
    "plt.xlabel('Chi-square statistic')\n",
    "plt.ylabel('Probability density')\n",
    "\n",
    "# Show the plot\n",
    "plt.show()\n"
   ]
  },
  {
   "cell_type": "code",
   "execution_count": 8,
   "id": "456afc52-cff2-4085-bc22-3d6eda3c7433",
   "metadata": {},
   "outputs": [
    {
     "name": "stdout",
     "output_type": "stream",
     "text": [
      "The 99% confidence interval for the true proportion of people in the population who prefer Coke is: (0.4793051576779699, 0.5606948423220302)\n"
     ]
    }
   ],
   "source": [
    "'''Q7. A random sample of 1000 people was asked if they preferred Coke or Pepsi. Of the sample, 520\n",
    "preferred Coke. Calculate a 99% confidence interval for the true proportion of people in the population who\n",
    "prefer Coke.'''\n",
    "import numpy as np\n",
    "import scipy.stats as stats\n",
    "\n",
    "# Define the sample proportion and sample size\n",
    "p = 520 / 1000\n",
    "n = 1000\n",
    "\n",
    "# Calculate the z-score for a 99% confidence level\n",
    "alpha = 0.01 # significance level of 1%\n",
    "z = stats.norm.ppf(1 - alpha/2)\n",
    "\n",
    "# Calculate the confidence interval\n",
    "interval = (p - z * np.sqrt((p * (1 - p)) / n), p + z * np.sqrt((p * (1 - p)) / n))\n",
    "\n",
    "# Print the confidence interval\n",
    "print(\"The 99% confidence interval for the true proportion of people in the population who prefer Coke is:\", interval)\n"
   ]
  },
  {
   "cell_type": "code",
   "execution_count": null,
   "id": "ea8b1695-24d8-4aed-829f-8655801131ca",
   "metadata": {},
   "outputs": [],
   "source": [
    "'''Q8. A researcher hypothesizes that a coin is biased towards tails. They flip the coin 100 times and observe\n",
    "45 tails. Conduct a chi-square goodness of fit test to determine if the observed frequencies match the\n",
    "expected frequencies of a fair coin. Use a significance level of 0.05.'''\n",
    "import scipy.stats as stats\n",
    "\n",
    "# Define the null hypothesis - the coin is fair\n",
    "observed_freq = [45, 55] # the observed frequencies of tails and heads, respectively\n",
    "expected_freq = [0.5, 0.5] # the expected frequencies for a fair coin\n",
    "n = 100 # total number of flips\n",
    "\n",
    "# Calculate the chi-square test statistic and p-value\n",
    "chi2_stat, p_val = stats.chisquare(observed_freq, expected_freq, ddof=0)\n",
    "\n",
    "# Determine if the null hypothesis is rejected based on the significance level of 0.05\n",
    "alpha = 0.05\n",
    "if p_val < alpha:\n",
    "    print(\"The null hypothesis is rejected. The coin is biased towards tails.\")\n",
    "else:\n",
    "    print(\"The null hypothesis is not rejected. The coin is not biased towards tails.\")\n",
    "    \n",
    "# Print the chi-square test statistic and p-value\n",
    "print(\"The chi-square test statistic is:\", chi2_stat)\n",
    "print(\"The p-value is:\", p_val)\n"
   ]
  },
  {
   "cell_type": "code",
   "execution_count": 10,
   "id": "4772ab71-b188-4856-a944-40b50e1e50de",
   "metadata": {},
   "outputs": [
    {
     "name": "stdout",
     "output_type": "stream",
     "text": [
      "Chi-square statistic: 3.5739651081141526\n",
      "p-value: 0.05869200906973007\n",
      "Degrees of freedom: 1\n",
      "Expected frequencies:\n",
      " [[ 51.87319885 148.12680115]\n",
      " [ 38.12680115 108.87319885]]\n",
      "There is no significant association between smoking status and lung cancer diagnosis.\n"
     ]
    }
   ],
   "source": [
    "'''Q9. A study was conducted to determine if there is an association between smoking status (smoker or\n",
    "non-smoker) and lung cancer diagnosis (yes or no). The results are shown in the contingency table below.\n",
    "Conduct a chi-square test for independence to determine if there is a significant association between\n",
    "smoking status and lung cancer diagnosis.\n",
    "'''\n",
    "import numpy as np\n",
    "from scipy.stats import chi2_contingency\n",
    "\n",
    "# define the contingency table\n",
    "contingency_table = np.array([[60,140],[30,117]])\n",
    "\n",
    "# conduct chi-square test for independence\n",
    "chi2, p, dof, expected = chi2_contingency(contingency_table)\n",
    "\n",
    "# print the results\n",
    "print(\"Chi-square statistic:\", chi2)\n",
    "print(\"p-value:\", p)\n",
    "print(\"Degrees of freedom:\", dof)\n",
    "print(\"Expected frequencies:\\n\", expected)\n",
    "if p < 0.05:\n",
    "    print(\"There is a significant association between smoking status and lung cancer diagnosis.\")\n",
    "else:\n",
    "    print(\"There is no significant association between smoking status and lung cancer diagnosis.\")\n"
   ]
  },
  {
   "cell_type": "code",
   "execution_count": 12,
   "id": "093ab879-dfa7-4a94-8410-26d0475c05c3",
   "metadata": {},
   "outputs": [
    {
     "name": "stdout",
     "output_type": "stream",
     "text": [
      "Test statistic: 13.394\n",
      "P-value: 0.001\n",
      "Degrees of freedom: 2\n",
      "Expected frequencies:\n",
      "[[212.5 162.5 125. ]\n",
      " [212.5 162.5 125. ]]\n",
      "There is significant evidence of an association between chocolate preference and country of origin.\n"
     ]
    }
   ],
   "source": [
    "'''Q10. A study was conducted to determine if the proportion of people who prefer milk chocolate, dark\n",
    "chocolate, or white chocolate is different in the U.S. versus the U.K. A random sample of 500 people from\n",
    "the U.S. and a random sample of 500 people from the U.K. were surveyed. The results are shown in the\n",
    "contingency table below. Conduct a chi-square test for independence to determine if there is a significant\n",
    "association between chocolate preference and country of origin.'''\n",
    "import numpy as np\n",
    "from scipy.stats import chi2_contingency\n",
    "\n",
    "obs = np.array([[200, 150, 150], [225, 175, 100]])\n",
    "chi2, p, dof, expected = chi2_contingency(obs)\n",
    "print(f\"Test statistic: {chi2:.3f}\")\n",
    "print(f\"P-value: {p:.3f}\")\n",
    "print(f\"Degrees of freedom: {dof}\")\n",
    "print(\"Expected frequencies:\")\n",
    "print(expected)\n",
    "\n",
    "alpha = 0.01\n",
    "if p < alpha:\n",
    "    print(\"There is significant evidence of an association between chocolate preference and country of origin.\")\n",
    "else:\n",
    "    print(\"There is insufficient evidence to conclude an association between chocolate preference and country of origin.\")\n"
   ]
  },
  {
   "cell_type": "code",
   "execution_count": null,
   "id": "18a734e1-1a2e-458e-b5b1-5712198a49d8",
   "metadata": {},
   "outputs": [],
   "source": [
    "'''Q11. A random sample of 30 people was selected from a population with an unknown mean and standard\n",
    "deviation. The sample mean was found to be 72 and the sample standard deviation was found to be 10.\n",
    "Conduct a hypothesis test to determine if the population mean is significantly different from 70. Use a\n",
    "significance level of 0.05.'''"
   ]
  }
 ],
 "metadata": {
  "kernelspec": {
   "display_name": "Python 3 (ipykernel)",
   "language": "python",
   "name": "python3"
  },
  "language_info": {
   "codemirror_mode": {
    "name": "ipython",
    "version": 3
   },
   "file_extension": ".py",
   "mimetype": "text/x-python",
   "name": "python",
   "nbconvert_exporter": "python",
   "pygments_lexer": "ipython3",
   "version": "3.10.8"
  }
 },
 "nbformat": 4,
 "nbformat_minor": 5
}
