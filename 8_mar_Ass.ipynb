{
 "cells": [
  {
   "cell_type": "code",
   "execution_count": null,
   "id": "6258dda1-b7e7-4519-ac42-2f2a6e94a2a9",
   "metadata": {},
   "outputs": [],
   "source": [
    "'''Q1. What is the Probability density function?\n",
    "Answer-In probability theory, a probability density function, or density of a continuous random variable, is a function whose \n",
    "value at any given sample in the sample space can be interpreted as providing a relative likelihood that the value of the \n",
    "random variable would be equal to that sample'''"
   ]
  },
  {
   "cell_type": "code",
   "execution_count": null,
   "id": "40bf3d92-bf2d-420a-beb2-335f9a979ad7",
   "metadata": {},
   "outputs": [],
   "source": [
    "'''Q2. What are the types of Probability distribution?\n",
    "Answer-There are two types of probability distributions:\n",
    "1)Discrete probability distributions.-Used for discrete random variables \n",
    "probability mass function(pmf) is used.\n",
    "\n",
    "2)Continuous probability distributions-Used for Continuous Random Variable.\n",
    "Probability density function is used.'''\n"
   ]
  },
  {
   "cell_type": "code",
   "execution_count": 7,
   "id": "dd38a0f3-8e9b-4365-b254-1d1af8088037",
   "metadata": {},
   "outputs": [
    {
     "data": {
      "text/plain": [
       "0.1497274656357448"
      ]
     },
     "execution_count": 7,
     "metadata": {},
     "output_type": "execute_result"
    }
   ],
   "source": [
    "'''Q3. Write a Python function to calculate the probability density function of a normal distribution with\n",
    "given mean and standard deviation at a given point.'''\n",
    "import scipy.stats as stats\n",
    "\n",
    "def normal_pdf(mean, std_dev, x):\n",
    "    return stats.norm.pdf(x, mean, std_dev)\n",
    "normal_pdf(3,1,4.4)"
   ]
  },
  {
   "cell_type": "code",
   "execution_count": null,
   "id": "1d9f9ebe-d785-4ce7-8c68-b8a2cd6c585a",
   "metadata": {},
   "outputs": [],
   "source": [
    "'''Q4. What are the properties of Binomial distribution? Give two examples of events where binomial\n",
    "distribution can be applied.\n",
    "Answer-\n",
    "1: The number of observations n is fixed.\n",
    "2: Each observation is independent. \n",
    "3: Each observation represents one of two outcomes (\"success\" or \"failure\").\n",
    "4: The probability of \"success\" p is the same for each outcome\n",
    "Examples of Binomial Distribution\n",
    "Testing a Drug.\n",
    "Participating in a Lucky Draw.'''"
   ]
  },
  {
   "cell_type": "code",
   "execution_count": 14,
   "id": "746a761c-f512-43c4-93eb-608f3d901f30",
   "metadata": {},
   "outputs": [
    {
     "data": {
      "text/plain": [
       "(array([  7.,  42., 122., 200., 250., 205., 114.,  50.,   9.,   1.]),\n",
       " array([0. , 0.9, 1.8, 2.7, 3.6, 4.5, 5.4, 6.3, 7.2, 8.1, 9. ]),\n",
       " <BarContainer object of 10 artists>)"
      ]
     },
     "execution_count": 14,
     "metadata": {},
     "output_type": "execute_result"
    },
    {
     "data": {
      "image/png": "[encoded data removed]",
      "text/plain": [
       "<Figure size 640x480 with 1 Axes>"
      ]
     },
     "metadata": {},
     "output_type": "display_data"
    }
   ],
   "source": [
    "'''Q5. Generate a random sample of size 1000 from a binomial distribution with probability of success 0.4\n",
    "and plot a histogram of the results using matplotlib.'''\n",
    "import numpy as np\n",
    "import matplotlib.pyplot as plt\n",
    "p,size=0.4,1000\n",
    "h=np.random.binomial(10,p,size)\n",
    "#plotting a histogram\n",
    "plt.hist(h)\n"
   ]
  },
  {
   "cell_type": "code",
   "execution_count": 17,
   "id": "7eb7d7b8-9096-48a1-b73a-0963d50051ee",
   "metadata": {},
   "outputs": [
    {
     "data": {
      "text/plain": [
       "0.0003354626279025119"
      ]
     },
     "execution_count": 17,
     "metadata": {},
     "output_type": "execute_result"
    }
   ],
   "source": [
    "'''Q6. Write a Python function to calculate the cumulative distribution function of a Poisson distribution\n",
    "with given mean at a given point.'''\n",
    "def cuml_df(x,mean):\n",
    "    return stats.poisson.cdf(x,mean)\n",
    "x=[i for i in range(17)]\n",
    "mean=np.mean(x)\n",
    "cuml_df(x[0],mean)"
   ]
  },
  {
   "cell_type": "code",
   "execution_count": null,
   "id": "a9c0a6b4-d9ed-4aa8-808d-7fa2a4f5d693",
   "metadata": {},
   "outputs": [],
   "source": [
    "'''Q7. How Binomial distribution different from Poisson distribution?\n",
    "Answer-Binomial distribution is one in which the probability of repeated number of trials are studied.\n",
    "Poisson Distribution gives the count of independent events occur randomly with a given period of time. Only two \n",
    "possible outcomes, i.e. success or failure.'''"
   ]
  },
  {
   "cell_type": "code",
   "execution_count": 5,
   "id": "d38fd229-7b9f-4fff-b6b2-ef7733026134",
   "metadata": {},
   "outputs": [
    {
     "name": "stdout",
     "output_type": "stream",
     "text": [
      "Mean is  5.017\n",
      "varrience is  5.052711\n"
     ]
    }
   ],
   "source": [
    "'''Q8. Generate a random sample of size 1000 from a Poisson distribution with mean 5 and calculate the\n",
    "sample mean and variance.'''\n",
    "import numpy as np\n",
    "pois_rand=np.random.poisson(lam=5,size=1000)\n",
    "#calculating sample mean\n",
    "mean=np.mean(pois_rand)\n",
    "varience=np.var(pois_rand)\n",
    "print(\"Mean is \",mean)\n",
    "print(\"varrience is \",varience)"
   ]
  },
  {
   "cell_type": "code",
   "execution_count": null,
   "id": "fa6f92da-785d-401b-834f-dcbac7190080",
   "metadata": {},
   "outputs": [],
   "source": [
    "'''Q9. How mean and variance are related in Binomial distribution and Poisson distribution?\n",
    "Answer-The mean and the variance of the Poisson distribution are the same, which is equal to the average number of successes \n",
    "that occur in the given interval of time.'''"
   ]
  },
  {
   "cell_type": "code",
   "execution_count": null,
   "id": "b176de24-1b11-4530-bd4c-f1dc35874633",
   "metadata": {},
   "outputs": [],
   "source": [
    "'''Q10. In normal distribution with respect to mean position, where does the least frequent data appear?\n",
    "Answer-Least frequent data in normal distribution will appear at the tail(both starting and end point) with resepect to mean."
   ]
  }
 ],
 "metadata": {
  "kernelspec": {
   "display_name": "Python 3 (ipykernel)",
   "language": "python",
   "name": "python3"
  },
  "language_info": {
   "codemirror_mode": {
    "name": "ipython",
    "version": 3
   },
   "file_extension": ".py",
   "mimetype": "text/x-python",
   "name": "python",
   "nbconvert_exporter": "python",
   "pygments_lexer": "ipython3",
   "version": "3.10.8"
  }
 },
 "nbformat": 4,
 "nbformat_minor": 5
}
