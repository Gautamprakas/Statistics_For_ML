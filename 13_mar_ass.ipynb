{
 "cells": [
  {
   "cell_type": "code",
   "execution_count": null,
   "id": "8a8f1932-4521-4c13-96c4-f53daa10e2f2",
   "metadata": {},
   "outputs": [],
   "source": [
    "'''Q1. Explain the assumptions required to use ANOVA and provide examples of violations that could impact\n",
    "the validity of the results.\n",
    "Answer-ANOVA (Analysis of Variance) is a statistical test used to determine whether there are significant differences \n",
    "between the means of three or more groups. To use ANOVA, there are several assumptions that need to be met:\n",
    "\n",
    "Independence: The data points in each group should be independent of each other. In other words, the value of one data \n",
    "point should not influence the value of another data point within the same group.\n",
    "\n",
    "Normality: The data in each group should be normally distributed. This means that the data should follow a bell-shaped\n",
    "curve with a symmetrical distribution.\n",
    "\n",
    "Homogeneity of variance: The variance of the data in each group should be equal. This means that the spread of the data \n",
    "should be roughly the same for each group.\n",
    "\n",
    "If these assumptions are not met, it can impact the validity of the ANOVA results. Here are some examples of violations\n",
    "and their impact:\n",
    "\n",
    "Violation of independence: If the data points in each group are not independent, it can lead to biased results. For \n",
    "example, if you are comparing the performance of two groups of employees and one group includes all the senior employees, while the other group includes all the junior employees, the senior employees may influence the performance of the junior employees. This violation can be addressed by ensuring that the groups are truly independent.\n",
    "\n",
    "Violation of normality: If the data in each group is not normally distributed, it can lead to inaccurate results. For \n",
    "example, if you are comparing the weight of three different types of apples and the weight data is skewed, the ANOVA \n",
    "results may not accurately reflect the differences between the means. This violation can be addressed by transforming the data or using a non-parametric test instead.\n",
    "\n",
    "Violation of homogeneity of variance: If the variance of the data in each group is not equal, it can lead to inaccurate \n",
    "results. For example, if you are comparing the growth rates of three different types of plants and one type of plant has a much larger variance in growth rates than the others, the ANOVA results may not accurately reflect the differences between the means. This violation can be addressed by using a Welch's ANOVA or transforming the data.\n",
    "\n",
    "In summary, ANOVA requires the assumptions of independence, normality, and homogeneity of variance to be met. Violations\n",
    "of these assumptions can impact the validity of the ANOVA results and should be addressed appropriately.'''"
   ]
  },
  {
   "cell_type": "code",
   "execution_count": null,
   "id": "7e4431b4-a5cb-422a-ade1-85999c534f92",
   "metadata": {},
   "outputs": [],
   "source": [
    "'''Q2. What are the three types of ANOVA, and in what situations would each be used?\n",
    "Answer-There are three types of ANOVA:\n",
    "\n",
    "One-Way ANOVA: One-Way ANOVA is used to compare the means of three or more groups that are independent of each other on a\n",
    "single independent variable (also known as a factor). For example, you might use One-Way ANOVA to compare the average \n",
    "sales of three different stores in a retail chain. The independent variable is the store location, and the dependent \n",
    "variable is the sales.\n",
    "\n",
    "Two-Way ANOVA: Two-Way ANOVA is used to compare the means of three or more groups on two independent variables. For \n",
    "example, you might use Two-Way ANOVA to compare the average salaries of employees in three different departments of a\n",
    "company, while also taking into account their level of experience. The two independent variables are the department and\n",
    "the level of experience, and the dependent variable is the salary.\n",
    "\n",
    "Three-Way ANOVA: Three-Way ANOVA is used to compare the means of three or more groups on three independent variables.\n",
    "For example, you might use Three-Way ANOVA to compare the average test scores of students in three different schools, \n",
    "while also taking into account their age and gender. The three independent variables are the school, age, and gender,\n",
    "and the dependent variable is the test score.\n",
    "\n",
    "In summary, One-Way ANOVA is used when there is a single independent variable, Two-Way ANOVA is used when there are two \n",
    "independent variables, and Three-Way ANOVA is used when there are three independent variables. The appropriate type of\n",
    "ANOVA to use depends on the research question and the number of independent variables being examined.'''"
   ]
  },
  {
   "cell_type": "code",
   "execution_count": null,
   "id": "5fd8754b-dae5-4a5c-843d-a6e13456c93a",
   "metadata": {},
   "outputs": [],
   "source": [
    "'''Q3. What is the partitioning of variance in ANOVA, and why is it important to understand this concept?\n",
    "Answer-The partitioning of variance in ANOVA refers to the process of breaking down the total variance in the data into\n",
    "different components based on the sources of variability. ANOVA partitions the total variance into two types of variance: \n",
    "the variance between groups and the variance within groups. The variance between groups represents the differences \n",
    "between the means of the different groups being compared, while the variance within groups represents the variation \n",
    "within each group.\n",
    "\n",
    "Partitioning of variance is important in ANOVA because it allows us to determine the contribution of each independent\n",
    "variable to the dependent variable. By examining the proportion of variance accounted for by each variable, we can assess\n",
    "the importance of each variable in explaining the differences in the dependent variable. This can help us to identify the\n",
    "most important factors that are influencing the outcome variable and to determine whether the differences between groups\n",
    "are statistically significant.\n",
    "\n",
    "Furthermore, the partitioning of variance can also help us to determine the appropriate type of ANOVA to use, such as\n",
    "One-Way ANOVA, Two-Way ANOVA, or Three-Way ANOVA, based on the number of independent variables and their interactions.\n",
    "\n",
    "Overall, understanding the partitioning of variance in ANOVA is essential for interpreting the results of the analysis, \n",
    "identifying the sources of variation in the data, and drawing meaningful conclusions from the study.'''"
   ]
  },
  {
   "cell_type": "code",
   "execution_count": null,
   "id": "b299dab0-7e52-4558-a1d7-b7a01e2732ec",
   "metadata": {},
   "outputs": [],
   "source": [
    "'''Q4. How would you calculate the total sum of squares (SST), explained sum of squares (SSE), and residual\n",
    "sum of squares (SSR) in a one-way ANOVA using Python?'''\n",
    "import pandas as pd\n",
    "import statsmodels.api as sm\n",
    "from statsmodels.formula.api import ols\n",
    "\n",
    "# load data\n",
    "data = pd.read_csv('data.csv')\n",
    "# fit one-way ANOVA model\n",
    "model = ols('dependent_variable ~ independent_variable', data=data).fit()\n",
    "\n",
    "# extract sum of squares values\n",
    "ssr = model.ssr\n",
    "sse = model.sse\n",
    "sst = ssr + sse\n"
   ]
  },
  {
   "cell_type": "code",
   "execution_count": null,
   "id": "35cb8955-c17a-4320-b1e2-325665b546ab",
   "metadata": {},
   "outputs": [],
   "source": [
    "'''Q5. In a two-way ANOVA, how would you calculate the main effects and interaction effects using Python?'''\n",
    "import pandas as pd\n",
    "import statsmodels.api as sm\n",
    "from statsmodels.formula.api import ols\n",
    "\n",
    "# load data\n",
    "data = pd.read_csv('data.csv')\n",
    "# fit two-way ANOVA model\n",
    "model = ols('dependent_variable ~ independent_variable_1 + independent_variable_2 + independent_variable_1*independent_variable_2', data=data).fit()\n",
    "\n",
    "# extract main effects and interaction effect\n",
    "main_effect_1 = model.params[independent_variable_1]\n",
    "main_effect_2 = model.params[independent_variable_2]\n",
    "interaction_effect = model.params['{}:{}'.format(independent_variable_1, independent_variable_2)]\n"
   ]
  },
  {
   "cell_type": "code",
   "execution_count": null,
   "id": "e910460f-7ce8-4802-b210-eedb2e3a9eda",
   "metadata": {},
   "outputs": [],
   "source": [
    "'''Q6. Suppose you conducted a one-way ANOVA and obtained an F-statistic of 5.23 and a p-value of 0.02.\n",
    "What can you conclude about the differences between the groups, and how would you interpret these\n",
    "results?\n",
    "Answer-f we conducted a one-way ANOVA and obtained an F-statistic of 5.23 and a p-value of 0.02, we can conclude that\n",
    "there is a statistically significant difference between the means of the groups.\n",
    "\n",
    "The F-statistic tells us the ratio of the variation between the groups (explained variation) to the variation within the \n",
    "groups (unexplained variation). A higher F-statistic indicates that the difference between the means of the groups is \n",
    "larger relative to the variation within the groups.\n",
    "\n",
    "The p-value of 0.02 indicates that there is only a 2% chance of observing such a large F-statistic if there is no \n",
    "difference between the means of the groups (assuming the null hypothesis is true). Since this p-value is smaller than \n",
    "the conventional alpha level of 0.05, we reject the null hypothesis and conclude that the difference between the means\n",
    "of the groups is statistically significant.\n",
    "\n",
    "In terms of interpretation, we can say that the groups are not all the same and that at least one group has a different\n",
    "mean from the others. However, we cannot say which group(s) have different means without further analysis, such as \n",
    "post-hoc tests. It's important to note that statistical significance does not necessarily imply practical significance, \n",
    "and we should also consider the magnitude of the differences between the means and whether they are meaningful in the \n",
    "context of the study.'''"
   ]
  },
  {
   "cell_type": "code",
   "execution_count": null,
   "id": "bef78516-f38d-4c86-8816-18dccb686d38",
   "metadata": {},
   "outputs": [],
   "source": [
    "'''Q7. In a repeated measures ANOVA, how would you handle missing data, and what are the potential\n",
    "consequences of using different methods to handle missing data?\n",
    "Answer-Handling missing data in a repeated measures ANOVA can be challenging, as missing values can potentially bias\n",
    "the results and reduce the statistical power of the analysis. There are several methods to handle missing data, and the choice of method can have consequences\n",
    "for the results of the analysis.\n",
    "\n",
    "One approach to handling missing data is to simply exclude cases with missing values from the analysis. This approach is\n",
    "called listwise deletion or complete-case analysis. This method is straightforward but can lead to loss of statistical\n",
    "power and potentially biased results if the missing data are related to the outcome or predictors of interest.\n",
    "\n",
    "Another approach is to impute missing data, where missing values are replaced with estimates based on the observed data.\n",
    "There are several methods for imputing missing data, such as mean imputation, regression imputation, and multiple \n",
    "imputation. Mean imputation involves replacing missing values with the mean of the observed values for that variable. \n",
    "Regression imputation involves predicting the missing values based on other variables in the dataset. Multiple imputation \n",
    "involves generating several plausible imputed datasets based on a model that accounts for the uncertainty in the missing\n",
    "values.'''"
   ]
  },
  {
   "cell_type": "code",
   "execution_count": null,
   "id": "cbc26315-a64f-4931-a184-909a85e08d5c",
   "metadata": {},
   "outputs": [],
   "source": [
    "'''Q8. What are some common post-hoc tests used after ANOVA, and when would you use each one? Provide\n",
    "an example of a situation where a post-hoc test might be necessary.\n",
    "Answer-Post-hoc tests are used to determine which specific group means differ from each other after a statistically \n",
    "significant result is obtained in an ANOVA. There are several common post-hoc tests, including:\n",
    "\n",
    "Tukey's Honestly Significant Difference (HSD) test: This test controls the family-wise error rate (FWER) and is used\n",
    "when the number of groups is equal or unequal. It compares all possible pairwise differences between group means and\n",
    "provides simultaneous confidence intervals for the differences. It is often used in situations where there is no prior\n",
    "hypothesis about which specific group means differ from each other.\n",
    "\n",
    "Bonferroni correction: This test is used to control the FWER and is appropriate when the number of groups is small.\n",
    "It divides the alpha level by the number of comparisons to obtain a more stringent alpha level for each comparison.\n",
    "\n",
    "Scheffe's test: This test controls the FWER and is used when the number of groups is large. It is more conservative\n",
    "than Tukey's HSD test, but it is useful in situations where there are a large number of pairwise comparisons.'''"
   ]
  },
  {
   "cell_type": "code",
   "execution_count": 8,
   "id": "34a62aff-fff1-48d5-82b6-424a89e26df0",
   "metadata": {},
   "outputs": [
    {
     "name": "stdout",
     "output_type": "stream",
     "text": [
      "F-statistic: 71.07\n",
      "p-value: 0.0000\n",
      "There is a significant difference between the mean weight loss of the three diets.\n"
     ]
    }
   ],
   "source": [
    "'''Q9. A researcher wants to compare the mean weight loss of three diets: A, B, and C. They collect data from\n",
    "50 participants who were randomly assigned to one of the diets. Conduct a one-way ANOVA using Python\n",
    "to determine if there are any significant differences between the mean weight loss of the three diets.\n",
    "Report the F-statistic and p-value, and interpret the results.'''\n",
    "import numpy as np\n",
    "from scipy.stats import f_oneway\n",
    "\n",
    "# generate sample data\n",
    "np.random.seed(1)\n",
    "diet_a = np.random.normal(5, 1, 50)\n",
    "diet_b = np.random.normal(6, 1, 50)\n",
    "diet_c = np.random.normal(7, 1, 50)\n",
    "\n",
    "# conduct one-way ANOVA\n",
    "f_statistic, p_value = f_oneway(diet_a, diet_b, diet_c)\n",
    "\n",
    "# report results\n",
    "print(\"F-statistic: {:.2f}\".format(f_statistic))\n",
    "print(\"p-value: {:.4f}\".format(p_value))\n",
    "\n",
    "if p_value < 0.05:\n",
    "    print(\"There is a significant difference between the mean weight loss of the three diets.\")\n",
    "else:\n",
    "    print(\"There is no significant difference between the mean weight loss of the three diets.\")\n"
   ]
  },
  {
   "cell_type": "code",
   "execution_count": 10,
   "id": "12d16004-825a-4e7e-a28c-3d9ca83c453a",
   "metadata": {},
   "outputs": [
    {
     "name": "stdout",
     "output_type": "stream",
     "text": [
      "                              sum_sq    df         F    PR(>F)\n",
      "C(Program)                  6.234931   2.0  0.956295  0.388458\n",
      "C(Experience)               7.218401   1.0  2.214272  0.140484\n",
      "C(Program):C(Experience)   13.489107   2.0  2.068918  0.132712\n",
      "Residual                  273.835194  84.0       NaN       NaN\n"
     ]
    }
   ],
   "source": [
    "'''Q10. A company wants to know if there are any significant differences in the average time it takes to\n",
    "complete a task using three different software programs: Program A, Program B, and Program C. They\n",
    "randomly assign 30 employees to one of the programs and record the time it takes each employee to\n",
    "complete the task. Conduct a two-way ANOVA using Python to determine if there are any main effects or\n",
    "interaction effects between the software programs and employee experience level (novice vs.\n",
    "experienced). Report the F-statistics and p-values, and interpret the results.'''\n",
    "import pandas as pd\n",
    "import statsmodels.api as sm\n",
    "from statsmodels.formula.api import ols\n",
    "\n",
    "# create sample data\n",
    "np.random.seed(1)\n",
    "program = [\"A\", \"B\", \"C\"] * 30\n",
    "experience = [\"Novice\"] * 45 + [\"Experienced\"] * 45\n",
    "time = np.random.normal(10, 2, 90)\n",
    "\n",
    "# convert data to dataframe\n",
    "df = pd.DataFrame({\"Program\": program, \"Experience\": experience, \"Time\": time})\n",
    "\n",
    "# conduct two-way ANOVA\n",
    "model = ols(\"Time ~ C(Program) + C(Experience) + C(Program):C(Experience)\", data=df).fit()\n",
    "anova_table = sm.stats.anova_lm(model, typ=2)\n",
    "\n",
    "# report results\n",
    "print(anova_table)\n"
   ]
  },
  {
   "cell_type": "code",
   "execution_count": 11,
   "id": "2a349a0e-37ef-4f24-832b-f3cbbd68b436",
   "metadata": {},
   "outputs": [
    {
     "name": "stdout",
     "output_type": "stream",
     "text": [
      "t-statistic: -4.584315463985094\n",
      "p-value: 8.059088190829134e-06\n",
      "  Multiple Comparison of Means - Tukey HSD, FWER=0.05   \n",
      "========================================================\n",
      " group1    group2    meandiff p-adj lower  upper  reject\n",
      "--------------------------------------------------------\n",
      "Control Experimental   5.9221   0.0 3.3746 8.4696   True\n",
      "--------------------------------------------------------\n"
     ]
    }
   ],
   "source": [
    "'''Q11. An educational researcher is interested in whether a new teaching method improves student test\n",
    "scores. They randomly assign 100 students to either the control group (traditional teaching method) or the\n",
    "experimental group (new teaching method) and administer a test at the end of the semester. Conduct a\n",
    "two-sample t-test using Python to determine if there are any significant differences in test scores\n",
    "between the two groups. If the results are significant, follow up with a post-hoc test to determine which\n",
    "group(s) differ significantly from each other.'''\n",
    "import numpy as np\n",
    "from scipy.stats import ttest_ind\n",
    "\n",
    "# Generate some example data\n",
    "np.random.seed(1)\n",
    "control_scores = np.random.normal(70, 10, 100)\n",
    "experimental_scores = np.random.normal(75, 10, 100)\n",
    "\n",
    "# Conduct two-sample t-test\n",
    "t_stat, p_value = ttest_ind(control_scores, experimental_scores)\n",
    "print(\"t-statistic:\", t_stat)\n",
    "print(\"p-value:\", p_value)\n",
    "\n",
    "# Conduct post-hoc test (e.g. Tukey's HSD test)\n",
    "from statsmodels.stats.multicomp import pairwise_tukeyhsd\n",
    "\n",
    "tukey_results = pairwise_tukeyhsd(np.concatenate([control_scores, experimental_scores]), \n",
    "                                  np.concatenate([np.repeat(\"Control\", 100), np.repeat(\"Experimental\", 100)]))\n",
    "\n",
    "print(tukey_results)\n"
   ]
  },
  {
   "cell_type": "code",
   "execution_count": null,
   "id": "640fbb32-7e51-4e31-9496-72f119d11978",
   "metadata": {},
   "outputs": [],
   "source": [
    "'''Q12. A researcher wants to know if there are any significant differences in the average daily sales of three\n",
    "retail stores: Store A, Store B, and Store C. They randomly select 30 days and record the sales for each store\n",
    "on those days. Conduct a repeated measures ANOVA using Python to determine if there are any\n",
    "\n",
    "significant differences in sales between the three stores. If the results are significant, follow up with a post-\n",
    "hoc test to determine which store(s) differ significantly from each other.'''"
   ]
  }
 ],
 "metadata": {
  "kernelspec": {
   "display_name": "Python 3 (ipykernel)",
   "language": "python",
   "name": "python3"
  },
  "language_info": {
   "codemirror_mode": {
    "name": "ipython",
    "version": 3
   },
   "file_extension": ".py",
   "mimetype": "text/x-python",
   "name": "python",
   "nbconvert_exporter": "python",
   "pygments_lexer": "ipython3",
   "version": "3.10.8"
  }
 },
 "nbformat": 4,
 "nbformat_minor": 5
}
