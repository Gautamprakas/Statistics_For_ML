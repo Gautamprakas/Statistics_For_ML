{
 "cells": [
  {
   "cell_type": "code",
   "execution_count": null,
   "id": "e3085cc4-5a9f-46de-9621-a2e616d8c5dc",
   "metadata": {},
   "outputs": [],
   "source": [
    "'''Q1. What are the three measures of central tendency?''\n",
    "Answer-There are three main measures of central tendency:\n",
    "\n",
    "mode-The mode is the most commonly occurring value in a distribution.\n",
    "median-The median is the middle value in distribution when the values are arranged in ascending or descending order.\n",
    "mean-The mean is the sum of the value of each observation in a dataset divided by the number of observations. This is also known as the arithmetic average. '''\n"
   ]
  },
  {
   "cell_type": "code",
   "execution_count": null,
   "id": "cd108063-36bd-4e30-b81d-63b1e5518191",
   "metadata": {},
   "outputs": [],
   "source": [
    "'''Q2. What is the difference between the mean, median, and mode? How are they used to measure the\n",
    "central tendency of a dataset?\n",
    "Answer-Mean of the dataset tells us the average value of the data while the median tells us the miidle value in a dataset\n",
    "that is arranged in ascending or descending order and the mode tells us about the frequency of the data like which value\n",
    "ocurs the most.\n",
    "mean=sum of all the values/total no.\n",
    "median=For a small data set, you first count the number of data points (n) and arrange the data points in increasing \n",
    "order. If the number of data points is uneven, you add 1 to the number of points and divide the results by 2 to get the \n",
    "rank of the data point whose value is the median\n",
    "mode-max frequency of a no. is our mode'''\n"
   ]
  },
  {
   "cell_type": "code",
   "execution_count": 3,
   "id": "3d777bd7-fa69-4248-8ccf-91d91b621b64",
   "metadata": {},
   "outputs": [
    {
     "name": "stdout",
     "output_type": "stream",
     "text": [
      "the meadian is 177.0\n",
      "the mode is 178\n",
      "the mean is 177.01875\n"
     ]
    }
   ],
   "source": [
    "'''Q3. Measure the three measures of central tendency for the given height data:\n",
    "[178,177,176,177,178.2,178,175,179,180,175,178.9,176.2,177,172.5,178,176.5]'''\n",
    "import numpy as np\n",
    "import statistics as stats\n",
    "l=[178,177,176,177,178.2,178,175,179,180,175,178.9,176.2,177,172.5,178,176.5]\n",
    "print(\"the meadian is\",np.median(l))\n",
    "print(\"the mode is\",stats.mode(l))\n",
    "print(\"the mean is\",np.mean(l))\n"
   ]
  },
  {
   "cell_type": "code",
   "execution_count": 4,
   "id": "a7ac4a47-a2f7-414b-b954-a9de38867d3f",
   "metadata": {},
   "outputs": [
    {
     "name": "stdout",
     "output_type": "stream",
     "text": [
      "the standard deviation is 1.7885814036548633\n"
     ]
    }
   ],
   "source": [
    "'''Q4. Find the standard deviation for the given data:\n",
    "[178,177,176,177,178.2,178,175,179,180,175,178.9,176.2,177,172.5,178,176.5]'''\n",
    "l=[178,177,176,177,178.2,178,175,179,180,175,178.9,176.2,177,172.5,178,176.5]\n",
    "print(\"the standard deviation is\",np.std(l))"
   ]
  },
  {
   "cell_type": "code",
   "execution_count": 11,
   "id": "2576a13a-ec5e-48b8-9fda-e7ef672db202",
   "metadata": {},
   "outputs": [
    {
     "name": "stdout",
     "output_type": "stream",
     "text": [
      "The variance is  25.6875\n",
      "The standard deviation is 3.762977544445356\n"
     ]
    }
   ],
   "source": [
    "'''Q5. How are measures of dispersion such as range, variance, and standard deviation used to describe\n",
    "the spread of a dataset? Provide an example.\n",
    "Answer-\n",
    "Range: Given a data set, the range can be defined as the difference between the maximum value and the minimum value.\n",
    "Ex-set {8, 12, 5, 6, 8, 2,15}\n",
    "H=15\n",
    "s=2\n",
    "Range=H-S=15-2=13\n",
    "Variance-It is the ratio of the standard deviation to the mean of the data set. It is expressed in the form of a \n",
    "percentage.\n",
    "Example -Find the sample variance of the data set {2, 6, 12, 15}\n",
    "Solution: Variance is a measure of dispersion given by-'''\n",
    "import numpy as np\n",
    "s=[2,6,12,15]\n",
    "print(\"The variance is \",np.var(s))\n",
    "'''Standard deviation-The square root of the variance gives the standard deviation. Thus, the standard deviation \n",
    "also measures the variation of the data about the mean.\n",
    "Ex-Find the std of [1,3,6,7,12]'''\n",
    "l=[1,3,6,7,12]\n",
    "print(\"The standard deviation is\",np.std(l))\n"
   ]
  },
  {
   "cell_type": "code",
   "execution_count": null,
   "id": "e77bfc0f-d333-4e44-933e-8c3114141831",
   "metadata": {},
   "outputs": [],
   "source": [
    "'''Q6. What is a Venn diagram?\n",
    "Answer-A Venn diagram is a widely used diagram style that shows the logical relation between sets, popularized by \n",
    "John Venn in the 1880s. The diagrams are used to teach elementary set theory, and to illustrate simple set relationships\n",
    "in probability, logic, statistics, linguistics and computer science.'''"
   ]
  },
  {
   "cell_type": "code",
   "execution_count": null,
   "id": "07475a91-193b-41bc-b6a3-d318f00955b5",
   "metadata": {},
   "outputs": [],
   "source": [
    "'''Q7. For the two given sets A = (2,3,4,5,6,7) & B = (0,2,6,8,10). Find:\n",
    "(i) A U B=(0,2,3,4,5,6,7,8,10)\n",
    "(ii) A intersection B=( 2,6) '''\n"
   ]
  },
  {
   "cell_type": "code",
   "execution_count": null,
   "id": "022f87f0-2eb8-44cc-b7ad-bc5a86f7dc20",
   "metadata": {},
   "outputs": [],
   "source": [
    "'''Q8. What do you understand about skewness in data?\n",
    "Answer-Skewness gives the direction of the outliers if it is right-skewed, most of the outliers are present on the\n",
    "right side of the distribution while if it is left-skewed, most of the outliers will present on the left side of the \n",
    "distribution.'''"
   ]
  },
  {
   "cell_type": "code",
   "execution_count": null,
   "id": "794738e5-5dd1-466e-a1f4-34c1bd1a16d6",
   "metadata": {},
   "outputs": [],
   "source": [
    "'''Q9. If a data is right skewed then what will be the position of median with respect to mean?\n",
    "Answer-If the distribution of data is skewed to the right, the mode is often less than the median, which is less \n",
    "than the mean.'''\n"
   ]
  },
  {
   "cell_type": "code",
   "execution_count": null,
   "id": "d6ba1420-2225-4298-8fc5-f7dee8fcef0f",
   "metadata": {},
   "outputs": [],
   "source": [
    "'''Q10. Explain the difference between covariance and correlation. How are these measures used in\n",
    "statistical analysis?\n",
    "Answer-Covariance and correlation are two terms that are opposed and are both used in statistics and regression \n",
    "analysis. Covariance shows you how the two variables differ, whereas correlation shows you how the two variables are \n",
    "related.\n",
    "In statistical analysis the value of correlation is high btw two column then we can say these are highly correlated to each\n",
    "other while high covariance shows us that the values are does't depend to each other.'''"
   ]
  },
  {
   "cell_type": "code",
   "execution_count": 16,
   "id": "18295a95-96e5-4adc-88de-a94402d0b4cd",
   "metadata": {},
   "outputs": [
    {
     "name": "stdout",
     "output_type": "stream",
     "text": [
      "sepal_length    5.843333\n",
      "sepal_width     3.057333\n",
      "petal_length    3.758000\n",
      "petal_width     1.199333\n",
      "dtype: float64\n"
     ]
    },
    {
     "name": "stderr",
     "output_type": "stream",
     "text": [
      "/tmp/ipykernel_137/2387706763.py:6: FutureWarning: The default value of numeric_only in DataFrame.mean is deprecated. In a future version, it will default to False. In addition, specifying 'numeric_only=None' is deprecated. Select only valid columns or specify the value of numeric_only to silence this warning.\n",
      "  print(df.mean())\n"
     ]
    }
   ],
   "source": [
    "'''Q11. What is the formula for calculating the sample mean? Provide an example calculation for a\n",
    "dataset.\n",
    "Answer- Mean=sum of all values/total no. of values'''\n",
    "import seaborn as sns\n",
    "df=sns.load_dataset('iris')\n",
    "print(df.mean())"
   ]
  },
  {
   "cell_type": "code",
   "execution_count": null,
   "id": "dfa2bdc4-e2ba-4379-9e7c-011a3f2cfc0b",
   "metadata": {},
   "outputs": [],
   "source": [
    "'''Q12. For a normal distribution data what is the relationship between its measure of central tendency?\n",
    "Answer-Mean=Mode=Median'''\n"
   ]
  },
  {
   "cell_type": "code",
   "execution_count": null,
   "id": "53579bce-b880-400c-a697-97f37eff0993",
   "metadata": {},
   "outputs": [],
   "source": [
    "'''Q13. How is covariance different from correlation?\n",
    "Answer-Variance and covariance are mathematical terms frequently used in statistics and probability theory. Variance refers to the spread of a data set around its mean value, while a covariance refers to the measure of the directional relationship between two random \n",
    "variables'''"
   ]
  },
  {
   "cell_type": "code",
   "execution_count": null,
   "id": "f5679aca-d6b6-404c-8d2c-9615fc9774a0",
   "metadata": {},
   "outputs": [],
   "source": [
    "'''Q14. How do outliers affect measures of central tendency and dispersion? Provide an example.\n",
    "Answer-Say you have a data set of : 4, 5, 5, 6, 6, 6, 7, 7, 80\n",
    "\n",
    "The mean is 14. (When you take the sum and divide by how many pieces of data there are, you get 126/9 which equals 14)\n",
    "The mode is 6. (Used three times this is more than any other data choice was used)\n",
    "The median is 6. (There are 9 numbers: (9+1)/2 = 5, 6 is the 5th number from the start when the numbers are arranged in order)\n",
    "We can see the difference in mean and meadian hence we "
   ]
  },
  {
   "cell_type": "code",
   "execution_count": null,
   "id": "4613c519-b57a-412b-a85e-f329ac6b846d",
   "metadata": {},
   "outputs": [],
   "source": []
  }
 ],
 "metadata": {
  "kernelspec": {
   "display_name": "Python 3 (ipykernel)",
   "language": "python",
   "name": "python3"
  },
  "language_info": {
   "codemirror_mode": {
    "name": "ipython",
    "version": 3
   },
   "file_extension": ".py",
   "mimetype": "text/x-python",
   "name": "python",
   "nbconvert_exporter": "python",
   "pygments_lexer": "ipython3",
   "version": "3.10.8"
  }
 },
 "nbformat": 4,
 "nbformat_minor": 5
}
