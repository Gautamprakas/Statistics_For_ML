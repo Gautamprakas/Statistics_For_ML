{
 "cells": [
  {
   "cell_type": "code",
   "execution_count": null,
   "id": "ceacc197-d729-4328-b7e8-cd49fe2bc7c3",
   "metadata": {},
   "outputs": [],
   "source": [
    "'''Q1: What is Estimation Statistics? Explain point estimate and interval estimate.\n",
    "Answer-estimation, in statistics, any of numerous procedures used to calculate the value of some property of a population from observations of a sample drawn \n",
    "from the population. A point estimate, for example, is the single number most likely to express the value of the property.\n",
    "1)Point Estimates:\n",
    "A point estimate is a sample statistic calculated using the sample data to estimate the most likely value of the corresponding\n",
    "unknown population parameter. In other words, we derive the point estimate from a single value in the sample and use it to \n",
    "estimate the population value.\n",
    "For instance, if we use a value of x̅ to estimate the mean µ of a population.\n",
    "x̅ = Σx/n\n",
    "For example, 62 is the average (x̅) mark achieved by a sample of 15 students randomly collected from a class of 150 students, \n",
    "which is considered the mean mark of the entire class. Since it is in the single numeric form, it is a point estimator.\n",
    "\n",
    "2).interval estimate:\n",
    "A confidence interval estimate is a range of values constructed from sample data so that the population parameter is likely to\n",
    "occur within the range at a specified probability. Accordingly, the specified probability is the level of confidence.\n",
    "\n",
    "Broader and probably more accurate than a point estimate\n",
    "Used with inferential statistics to develop a confidence interval – where we believe with a certain degree of confidence that\n",
    "the population parameter lies.\n",
    "Any parameter estimate that is based on a sample statistic has some amount of sampling error.\n",
    "In statistics, interval estimation is using sample data to calculate an interval of possible values of an unknown population\n",
    "parameter."
   ]
  },
  {
   "cell_type": "code",
   "execution_count": 6,
   "id": "19bffd4e-6d62-4416-a6c7-3d0fee6b6628",
   "metadata": {},
   "outputs": [
    {
     "data": {
      "text/plain": [
       "200.0"
      ]
     },
     "execution_count": 6,
     "metadata": {},
     "output_type": "execute_result"
    }
   ],
   "source": [
    "'''Q2. Write a Python function to estimate the population mean using a sample mean and standard\n",
    "deviation'''\n",
    "import math\n",
    "\n",
    "def estimate_population_mean(sample_mean, sample_std, sample_size):\n",
    "    \"\"\"Estimate the population mean using a sample mean and standard deviation.\n",
    "\n",
    "    Args:\n",
    "        sample_mean (float): The sample mean.\n",
    "        sample_std (float): The standard deviation of the sample.\n",
    "        sample_size (int): The size of the sample.\n",
    "\n",
    "    Returns:\n",
    "        float: The estimated population mean.\n",
    "    \"\"\"\n",
    "    std_error = sample_std / math.sqrt(sample_size)\n",
    "    z_score = 1.96 # assuming a 95% confidence interval\n",
    "    margin_of_error = z_score * std_error\n",
    "    lower_bound = sample_mean - margin_of_error\n",
    "    upper_bound = sample_mean + margin_of_error\n",
    "    return (lower_bound + upper_bound) / 2\n",
    "#the formula for sample mean =x-mu/(sigma/sqrt(n))\n",
    "#populationm mean =x-mu/sigma\n",
    "x=estimate_population_mean(200,10,40)\n",
    "x\n",
    "\n"
   ]
  },
  {
   "cell_type": "code",
   "execution_count": null,
   "id": "3b12a78e-2825-4cb0-b208-0429bec0879e",
   "metadata": {},
   "outputs": [],
   "source": [
    "'''Q3: What is Hypothesis testing? Why is it used? State the importance of Hypothesis testing.\n",
    "Answer-Hypothesis testing is a systematic procedure for deciding whether the results of a research study support a particular\n",
    "theory which applies to a population. Hypothesis testing uses sample data to evaluate a hypothesis about a population\n",
    "Use of Hypothesis Testing-\n",
    "The purpose of hypothesis testing is to test whether the null hypothesis (there is no difference, no effect) can be rejected or approved. If the \n",
    "null hypothesis is rejected, then the research hypothesis can be accepted. If the null hypothesis is accepted, then the \n",
    "research hypothesis is rejected\n",
    "\n",
    "Hypothesis testing is the process used to evaluate the strength of evidence from the sample and provides a framework for\n",
    "making determinations related to the population, ie, it provides a method for understanding how reliably one can extrapolate\n",
    "observed findings in a sample under study to the larger population from'''"
   ]
  },
  {
   "cell_type": "code",
   "execution_count": null,
   "id": "6cdb5677-0d44-4d41-800e-e75b20d3cbaf",
   "metadata": {},
   "outputs": [],
   "source": [
    "'''Q4. Create a hypothesis that states whether the average weight of male college students is greater than\n",
    "the average weight of female college students.\n",
    "Answer-\n",
    "Lets take the mu1 average of male students ans mu2 feamle students average weight\n",
    "Null hypothesis(H)=the average weight of male college students is greater than\n",
    "the average weight of female college students\n",
    "mu1>mu2\n",
    "Alternate Hypothesis(H1)=mu1<=mu2'''"
   ]
  },
  {
   "cell_type": "code",
   "execution_count": 9,
   "id": "728ce227-37d3-4298-937e-ba1c497cbe13",
   "metadata": {},
   "outputs": [
    {
     "name": "stdout",
     "output_type": "stream",
     "text": [
      "The difference between the means is statistically significant (p = 0.000).\n"
     ]
    }
   ],
   "source": [
    "'''Q5. Write a Python script to conduct a hypothesis test on the difference between two population means,\n",
    "given a sample from each population.'''\n",
    "import numpy as np\n",
    "from scipy.stats import ttest_ind\n",
    "\n",
    "# Set the significance level\n",
    "alpha = 0.05\n",
    "\n",
    "# Generate two samples\n",
    "sample1 = np.random.normal(10, 2, size=50)\n",
    "sample2 = np.random.normal(12, 2, size=50)\n",
    "\n",
    "# Calculate the mean and standard deviation of each sample\n",
    "mean1, mean2 = np.mean(sample1), np.mean(sample2)\n",
    "std1, std2 = np.std(sample1, ddof=1), np.std(sample2, ddof=1)\n",
    "\n",
    "# Calculate the pooled standard deviation\n",
    "pooled_std = np.sqrt(((len(sample1)-1)*std1**2 + (len(sample2)-1)*std2**2) / (len(sample1)+len(sample2)-2))\n",
    "\n",
    "# Calculate the t-statistic and p-value using the two-sample t-test\n",
    "t_stat, p_val = ttest_ind(sample1, sample2)\n",
    "\n",
    "# Determine if the difference between the means is significant\n",
    "if p_val < alpha:\n",
    "    print(\"The difference between the means is statistically significant (p = {:.3f}).\".format(p_val))\n",
    "else:\n",
    "    print(\"The difference between the means is not statistically significant (p = {:.3f}).\".format(p_val))\n",
    "    "
   ]
  },
  {
   "cell_type": "code",
   "execution_count": null,
   "id": "e6792fa8-e135-475e-9d4a-a52acddffa67",
   "metadata": {},
   "outputs": [],
   "source": [
    "'''Q6: What is a null and alternative hypothesis? Give some examples.\n",
    "Answer-The null hypothesis is the one to be tested and the alternative is everything else. Th null hypothesis is based on the \n",
    "population mean and the alternate hypothesis is bases on Sample mean(H1).\n",
    "In our example: \n",
    "The null hypothesis would be: The mean data scientist salary is 113,000 dollars. While the alternative: The mean data scientist salary is not \n",
    "113,000 dollars.'''"
   ]
  },
  {
   "cell_type": "code",
   "execution_count": null,
   "id": "bbb3b14e-cb9b-4675-9f0b-9826daefca1e",
   "metadata": {},
   "outputs": [],
   "source": [
    "'''Q7: Write down the steps involved in hypothesis testing.\n",
    "Answer-\n",
    "Step 1: State your null and alternate hypothesis. ...\n",
    "Step 2: Collect data. ...\n",
    "Step 3: Perform a statistical test. ...\n",
    "Step 4: Decide whether to reject or fail to reject your null hypothesis. ...\n",
    "Step 5: Present your findings.'''"
   ]
  },
  {
   "cell_type": "code",
   "execution_count": null,
   "id": "00d88f68-1460-40f8-8697-8a1401d487e7",
   "metadata": {},
   "outputs": [],
   "source": [
    "'''Q8. Define p-value and explain its significance in hypothesis testing.\n",
    "Answer-The P value means the probability, for a given statistical model that, when the null hypothesis is true, the \n",
    "statistical summary would be equal to or more extreme than the actual observed results.\n",
    "The P value is defined as the probability under the assumption of no effect or no difference (null hypothesis), of obtaining a\n",
    "result equal to or more extreme than what was actually observed. The P stands for probability and measures how likely it is\n",
    "that any observed difference between groups is due to chance.\n",
    "\n",
    "A statistically significant test result (P ≤ 0.05) means that the test hypothesis is false or should be rejected. A P value \n",
    "greater than 0.05 means that no effect was observed.'''\n"
   ]
  },
  {
   "cell_type": "code",
   "execution_count": 14,
   "id": "6cde1b8d-73de-4631-bc1d-b77042ecdf96",
   "metadata": {},
   "outputs": [
    {
     "data": {
      "image/png": "[encoded data removed]",
      "text/plain": [
       "<Figure size 640x480 with 1 Axes>"
      ]
     },
     "metadata": {},
     "output_type": "display_data"
    }
   ],
   "source": [
    "'''Q9. Generate a Student's t-distribution plot using Python's matplotlib library, with the degrees of freedom\n",
    "parameter set to 10.'''\n",
    "import numpy as np\n",
    "import matplotlib.pyplot as plt\n",
    "from scipy.stats import t\n",
    "\n",
    "# Set the degrees of freedom parameter\n",
    "df = 10\n",
    "\n",
    "# Create an array of x values\n",
    "x = np.linspace(-4, 4, 1000)\n",
    "\n",
    "# Calculate the y values for the Student's t-distribution\n",
    "y = t.pdf(x, df)\n",
    "\n",
    "\n",
    "# Plot the distribution\n",
    "plt.plot(x, y)\n",
    "\n",
    "# Add labels and a title\n",
    "plt.xlabel('x')\n",
    "plt.ylabel('PDF')\n",
    "plt.title('Student\\'s t-distribution with df = 10')\n",
    "\n",
    "# Display the plot\n",
    "plt.show()"
   ]
  },
  {
   "cell_type": "code",
   "execution_count": 1,
   "id": "bdd95827-0609-419d-b786-965cdeb3163e",
   "metadata": {},
   "outputs": [
    {
     "name": "stdout",
     "output_type": "stream",
     "text": [
      "Sample 1 mean: 9.142857142857142\n",
      "Sample 2 mean: 10.714285714285714\n",
      "Sample 1 standard deviation: 3.484660262185848\n",
      "Sample 2 standard deviation: 4.111540089159038\n",
      "T-statistic: -0.7714155606501042\n",
      "P-value: 0.4553831368875907\n"
     ]
    }
   ],
   "source": [
    "'''Q10. Write a Python program to calculate the two-sample t-test for independent samples, given two\n",
    "random samples of equal size and a null hypothesis that the population means are equal.'''\n",
    "import scipy.stats as stats\n",
    "\n",
    "# Define the two random samples\n",
    "sample1 = [4, 6, 8, 9, 11, 12, 14]\n",
    "sample2 = [5, 7, 9, 10, 13, 15, 16]\n",
    "\n",
    "# Calculate the means and standard deviations of the samples\n",
    "mean1 = sum(sample1) / len(sample1)\n",
    "mean2 = sum(sample2) / len(sample2)\n",
    "std1 = stats.tstd(sample1)\n",
    "std2 = stats.tstd(sample2)\n",
    "\n",
    "# Calculate the t-statistic and p-value\n",
    "t_statistic, p_value = stats.ttest_ind(sample1, sample2)\n",
    "\n",
    "# Print the results\n",
    "print(\"Sample 1 mean:\", mean1)\n",
    "print(\"Sample 2 mean:\", mean2)\n",
    "print(\"Sample 1 standard deviation:\", std1)\n",
    "print(\"Sample 2 standard deviation:\", std2)\n",
    "print(\"T-statistic:\", t_statistic)\n",
    "print(\"P-value:\", p_value)\n",
    "'''Hence we failed to reject the hypothesis'''\n"
   ]
  },
  {
   "cell_type": "code",
   "execution_count": null,
   "id": "06299eb0-1533-4c43-a918-648523e55ac5",
   "metadata": {},
   "outputs": [],
   "source": [
    "'''Q11: What is Student’s t distribution? When to use the t-Distribution.\n",
    "Answer-Student's t-distribution is a probability distribution that is used to estimate the mean of a normally \n",
    "distributed population when the sample size is small and the population standard deviation is unknown. It is also\n",
    "used to test hypotheses about the population mean when the sample size is small and the population standard deviation \n",
    "is unknown.\n",
    "\n",
    "The t-distribution has a similar shape to the normal distribution, but with heavier tails, which means it is less\n",
    "sensitive to extreme values or outliers. The shape of the t-distribution changes depending on the sample size. As \n",
    "the sample size increases, the t-distribution approaches the normal distribution.\n",
    "\n",
    "The t-distribution is often used in statistical inference when the sample size is small (less than 30) and the\n",
    "population standard deviation is unknown. It is commonly used to:\n",
    "\n",
    "Estimate the mean of a normally distributed population when the sample size is small and the population standard \n",
    "deviation is unknown.\n",
    "Test hypotheses about the population mean when the sample size is small and the population standard deviation is unknown.\n",
    "Construct confidence intervals for the population mean when the sample size is small and the population standard \n",
    "deviation is unknown.\n",
    "Overall, the t-distribution is an important tool in statistical inference when working with small sample sizes \n",
    "and unknown population standard deviations.'''"
   ]
  },
  {
   "cell_type": "code",
   "execution_count": null,
   "id": "335a5538-20d6-4852-b563-eb06f2c25e95",
   "metadata": {},
   "outputs": [],
   "source": [
    "'''Q12: What is t-statistic? State the formula for t-statistic.\n",
    "Answer-t-statistic is a measure used in statistics to test hypotheses about the population mean when the sample size \n",
    "is small (less than 30) and the population standard deviation is unknown. It compares the difference between the sample\n",
    "mean and the hypothesized population mean to the variation in the sample data.\n",
    "\n",
    "The formula for t-statistic is:\n",
    "\n",
    "t = (x̄ - μ) / (s / sqrt(n))\n",
    "\n",
    "where:\n",
    "\n",
    "x̄ is the sample mean\n",
    "μ is the hypothesized population mean\n",
    "s is the sample standard deviation\n",
    "n is the sample size\n",
    "sqrt is the square root function'''"
   ]
  },
  {
   "cell_type": "code",
   "execution_count": null,
   "id": "289421ee-5fb1-4cc6-8faa-00031d830823",
   "metadata": {},
   "outputs": [],
   "source": [
    "'''Q13. A coffee shop owner wants to estimate the average daily revenue for their shop. They take a random\n",
    "sample of 50 days and find the sample mean revenue to be $500 with a standard deviation of $50.\n",
    "Estimate the population mean revenue with a 95% confidence interval.\n",
    "Answer-To estimate the population mean revenue with a 95% confidence interval, we can use the t-distribution since the sample size is relatively small (n = 50) and the population standard deviation is unknown.\n",
    "\n",
    "The formula for the confidence interval for the population mean is:\n",
    "\n",
    "CI = x̄ ± t(alpha/2, df) * (s / sqrt(n))\n",
    "\n",
    "where:\n",
    "\n",
    "x̄ is the sample mean ($500)\n",
    "t(alpha/2, df) is the critical t-value for a 95% confidence interval with 49 degrees of freedom (df = n-1)\n",
    "s is the sample standard deviation ($50)\n",
    "n is the sample size (50)\n",
    "sqrt is the square root function\n",
    "First, we need to find the critical t-value for a 95% confidence interval with 49 degrees of freedom. Using \n",
    "a t-distribution table or calculator, the critical t-value is approximately 2.009.\n",
    "\n",
    "Substituting the values into the formula, we get:\n",
    "\n",
    "CI = $500 ± 2.009 * ($50 / sqrt(50))\n",
    "\n",
    "Simplifying the expression, we get:\n",
    "\n",
    "CI = $500 ± $14.14\n",
    "\n",
    "Therefore, the 95% confidence interval for the population mean revenue is $485.86 to $514.14.\n",
    "\n",
    "We can interpret this interval as follows: if we take 100 random samples of 50 days from the population, \n",
    "and calculate the confidence interval for each sample mean revenue, we expect that approximately 95 of these\n",
    "intervals will contain the true population mean revenue.'''"
   ]
  },
  {
   "cell_type": "code",
   "execution_count": null,
   "id": "1f97c2fd-f896-4296-9471-50106e9dfef0",
   "metadata": {},
   "outputs": [],
   "source": [
    "'''Q14. A researcher hypothesizes that a new drug will decrease blood pressure by 10 mmHg. They conduct a\n",
    "clinical trial with 100 patients and find that the sample mean decrease in blood pressure is 8 mmHg with a\n",
    "standard deviation of 3 mmHg. Test the hypothesis with a significance level of 0.05.\n",
    "Answer-To test the hypothesis that the new drug will decrease blood pressure by 10 mmHg with a significance level of 0.05,\n",
    "we need to perform a one-sample t-test. The null and alternative hypotheses are:\n",
    "\n",
    "H0: μ = 10 (the population mean decrease in blood pressure is 10 mmHg)\n",
    "Ha: μ < 10 (the population mean decrease in blood pressure is less than 10 mmHg)\n",
    "where μ is the true population mean decrease in blood pressure.\n",
    "\n",
    "We can use the t-statistic formula to calculate the test statistic:\n",
    "\n",
    "t = (x̄ - μ) / (s / sqrt(n))\n",
    "\n",
    "where:\n",
    "\n",
    "x̄ is the sample mean decrease in blood pressure (8 mmHg)\n",
    "μ is the hypothesized population mean decrease in blood pressure (10 mmHg)\n",
    "s is the sample standard deviation (3 mmHg)\n",
    "n is the sample size (100)\n",
    "sqrt is the square root function\n",
    "Substituting the values, we get:\n",
    "\n",
    "t = (8 - 10) / (3 / sqrt(100))\n",
    "t = -2.67\n",
    "\n",
    "Using a t-distribution table or calculator with 99 degrees of freedom (df = n-1), we find the critical t-value for\n",
    "a one-tailed test with a significance level of 0.05 is approximately -1.66.\n",
    "\n",
    "Since the calculated t-value (-2.67) is less than the critical t-value (-1.66), we reject the null hypothesis and\n",
    "conclude that there is evidence to suggest that the new drug decreases blood pressure by less than 10 mmHg.\n",
    "\n",
    "In other words, the sample mean decrease in blood pressure of 8 mmHg is significantly lower than the hypothesized\n",
    "mean decrease of 10 mmHg at a 5% significance level.'''"
   ]
  },
  {
   "cell_type": "code",
   "execution_count": null,
   "id": "8f4e95d4-e721-4709-8eec-b1990b3dcf20",
   "metadata": {},
   "outputs": [],
   "source": [
    "'''Q15. An electronics company produces a certain type of product with a mean weight of 5 pounds and a\n",
    "standard deviation of 0.5 pounds. A random sample of 25 products is taken, and the sample mean weight\n",
    "is found to be 4.8 pounds. Test the hypothesis that the true mean weight of the products is less than 5\n",
    "pounds with a significance level of 0.01.\n",
    "Answer-To test the hypothesis that the true mean weight of the products is less than 5 pounds with a significance \n",
    "level of 0.01, we need to perform a one-sample t-test. The null and alternative hypotheses are:\n",
    "\n",
    "H0: μ >= 5 (the true mean weight of the products is greater than or equal to 5 pounds)\n",
    "Ha: μ < 5 (the true mean weight of the products is less than 5 pounds)\n",
    "where μ is the true population mean weight of the products.\n",
    "\n",
    "We can use the t-statistic formula to calculate the test statistic:\n",
    "\n",
    "t = (x̄ - μ) / (s / sqrt(n))\n",
    "\n",
    "where:\n",
    "\n",
    "x̄ is the sample mean weight (4.8 pounds)\n",
    "μ is the hypothesized population mean weight (5 pounds)\n",
    "s is the sample standard deviation (0.5 pounds)\n",
    "n is the sample size (25)\n",
    "sqrt is the square root function\n",
    "Substituting the values, we get:\n",
    "\n",
    "t = (4.8 - 5) / (0.5 / sqrt(25))\n",
    "t = -2\n",
    "\n",
    "Using a t-distribution table or calculator with 24 degrees of freedom (df = n-1), we find the critical t-value for\n",
    "a one-tailed test with a significance level of 0.01 is approximately -2.492.\n",
    "\n",
    "Since the calculated t-value (-2) is greater than the critical t-value (-2.492), we fail to reject the null hypothesis \n",
    "and conclude that there is not enough evidence to suggest that the true mean weight of the products is less than 5 pounds at a 1% significance level.\n",
    "\n",
    "In other words, the sample mean weight of 4.8 pounds is not significantly different from the hypothesized mean weight of\n",
    "5 pounds at a 1% significance level.'''"
   ]
  },
  {
   "cell_type": "code",
   "execution_count": null,
   "id": "e2a609d7-9887-45f4-a6bb-6aedaae31db2",
   "metadata": {},
   "outputs": [],
   "source": [
    "'''Q16. Two groups of students are given different study materials to prepare for a test. The first group (n1 =\n",
    "30) has a mean score of 80 with a standard deviation of 10, and the second group (n2 = 40) has a mean\n",
    "score of 75 with a standard deviation of 8. Test the hypothesis that the population means for the two\n",
    "groups are equal with a significance level of 0.01.\n",
    "Answer-"
   ]
  }
 ],
 "metadata": {
  "kernelspec": {
   "display_name": "Python 3 (ipykernel)",
   "language": "python",
   "name": "python3"
  },
  "language_info": {
   "codemirror_mode": {
    "name": "ipython",
    "version": 3
   },
   "file_extension": ".py",
   "mimetype": "text/x-python",
   "name": "python",
   "nbconvert_exporter": "python",
   "pygments_lexer": "ipython3",
   "version": "3.10.8"
  }
 },
 "nbformat": 4,
 "nbformat_minor": 5
}
