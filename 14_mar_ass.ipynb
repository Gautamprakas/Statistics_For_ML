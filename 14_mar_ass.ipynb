{
 "cells": [
  {
   "cell_type": "code",
   "execution_count": 1,
   "id": "e1a5cf80-fa8c-4967-8254-ff6497b032df",
   "metadata": {},
   "outputs": [
    {
     "name": "stdout",
     "output_type": "stream",
     "text": [
      "F-value: 25.0\n",
      "p-value: 0.0010528257933665396\n"
     ]
    }
   ],
   "source": [
    "'''Q1. Write a Python function that takes in two arrays of data and calculates the F-value for a variance ratio\n",
    "test. The function should return the F-value and the corresponding p-value for the test.'''\n",
    "import numpy as np\n",
    "from scipy.stats import f_oneway\n",
    "\n",
    "def calculate_f_value(arr1, arr2):\n",
    "    f_val, p_val = f_oneway(arr1, arr2)\n",
    "    return f_val, p_val\n",
    "arr1 = np.array([1, 2, 3, 4, 5])\n",
    "arr2 = np.array([6, 7, 8, 9, 10])\n",
    "f_val, p_val = calculate_f_value(arr1, arr2)\n",
    "print(\"F-value:\", f_val)\n",
    "print(\"p-value:\", p_val)\n"
   ]
  },
  {
   "cell_type": "code",
   "execution_count": 2,
   "id": "be206ae2-f7d2-4f86-a9f1-54bce71d28d5",
   "metadata": {},
   "outputs": [
    {
     "name": "stdout",
     "output_type": "stream",
     "text": [
      "Lower critical F-value: 0.025341563254390048\n",
      "Upper critical F-value: 4.242094126533731\n"
     ]
    }
   ],
   "source": [
    "'''Q2. Given a significance level of 0.05 and the degrees of freedom for the numerator and denominator of an\n",
    "F-distribution, write a Python function that returns the critical F-value for a two-tailed test.'''\n",
    "from scipy.stats import f\n",
    "\n",
    "def calculate_critical_f_value(alpha, dfn, dfd):\n",
    "    return f.ppf(alpha / 2, dfn, dfd), f.ppf(1 - alpha / 2, dfn, dfd)\n",
    "alpha = 0.05\n",
    "dfn = 2\n",
    "dfd = 27\n",
    "lower, upper = calculate_critical_f_value(alpha, dfn, dfd)\n",
    "print(\"Lower critical F-value:\", lower)\n",
    "print(\"Upper critical F-value:\", upper)\n"
   ]
  },
  {
   "cell_type": "code",
   "execution_count": 3,
   "id": "81a00946-ba02-453e-8a6b-9987d25cfcfc",
   "metadata": {},
   "outputs": [
    {
     "name": "stdout",
     "output_type": "stream",
     "text": [
      "F-value: 1.0714816556007476\n",
      "Degrees of freedom: 49 and 49\n",
      "p-value: 0.4050120144486801\n"
     ]
    }
   ],
   "source": [
    "'''Q3. Write a Python program that generates random samples from two normal distributions with known\n",
    "\n",
    "variances and uses an F-test to determine if the variances are equal. The program should output the F-\n",
    "value, degrees of freedom, and p-value for the test.'''\n",
    "import numpy as np\n",
    "from scipy.stats import f\n",
    "\n",
    "# Generate random samples from two normal distributions with known variances\n",
    "n1 = 50\n",
    "n2 = 50\n",
    "mean1 = 0\n",
    "mean2 = 0\n",
    "variance1 = 1\n",
    "variance2 = 1\n",
    "sample1 = np.random.normal(mean1, np.sqrt(variance1), n1)\n",
    "sample2 = np.random.normal(mean2, np.sqrt(variance2), n2)\n",
    "\n",
    "# Perform F-test to determine if variances are equal\n",
    "f_val, p_val = np.var(sample1, ddof=1) / np.var(sample2, ddof=1), \\\n",
    "               f.sf(np.var(sample1, ddof=1) / np.var(sample2, ddof=1), n1-1, n2-1)\n",
    "\n",
    "# Output results\n",
    "print(\"F-value:\", f_val)\n",
    "print(\"Degrees of freedom:\", n1-1, \"and\", n2-1)\n",
    "print(\"p-value:\", p_val)\n"
   ]
  },
  {
   "cell_type": "code",
   "execution_count": 4,
   "id": "67cc3dbe-c3f5-4f2a-a8fd-16f4eccf18c4",
   "metadata": {},
   "outputs": [
    {
     "name": "stdout",
     "output_type": "stream",
     "text": [
      "Fail to reject null hypothesis. The variances are not significantly different.\n"
     ]
    }
   ],
   "source": [
    "'''Q4.The variances of two populations are known to be 10 and 15. A sample of 12 observations is taken from\n",
    "each population. Conduct an F-test at the 5% significance level to determine if the variances are\n",
    "significantly different.'''\n",
    "from scipy.stats import f\n",
    "\n",
    "# Define sample sizes and known variances\n",
    "n1 = 12\n",
    "n2 = 12\n",
    "variance1 = 10\n",
    "variance2 = 15\n",
    "\n",
    "# Calculate F-test statistic\n",
    "f_stat = variance2 / variance1\n",
    "\n",
    "# Calculate degrees of freedom\n",
    "dfn = n2 - 1\n",
    "dfd = n1 - 1\n",
    "\n",
    "# Calculate p-value\n",
    "p_value = f.sf(f_stat, dfn, dfd) * 2  # multiplying by 2 for a two-tailed test\n",
    "\n",
    "# Compare p-value to significance level\n",
    "alpha = 0.05\n",
    "if p_value <= alpha:\n",
    "    print(\"Reject null hypothesis. The variances are significantly different.\")\n",
    "else:\n",
    "    print(\"Fail to reject null hypothesis. The variances are not significantly different.\")\n"
   ]
  },
  {
   "cell_type": "code",
   "execution_count": 5,
   "id": "ca2d50ce-99c3-4995-85f9-ed81d0db18ac",
   "metadata": {},
   "outputs": [
    {
     "name": "stdout",
     "output_type": "stream",
     "text": [
      "Fail to reject null hypothesis. The claim is justified.\n"
     ]
    }
   ],
   "source": [
    "'''Q5. A manufacturer claims that the variance of the diameter of a certain product is 0.005. A sample of 25\n",
    "products is taken, and the sample variance is found to be 0.006. Conduct an F-test at the 1% significance\n",
    "level to determine if the claim is justified.'''\n",
    "from scipy.stats import f\n",
    "\n",
    "# Define sample size, claimed variance, and sample variance\n",
    "n = 25\n",
    "sigma2 = 0.005\n",
    "s2 = 0.006\n",
    "\n",
    "# Calculate F-test statistic\n",
    "f_stat = s2 / sigma2\n",
    "\n",
    "# Calculate degrees of freedom\n",
    "dfn = n - 1\n",
    "dfd = 1  # degrees of freedom for the denominator\n",
    "\n",
    "# Calculate p-value\n",
    "p_value = f.sf(f_stat, dfn, dfd) * 2  # multiplying by 2 for a two-tailed test\n",
    "\n",
    "# Compare p-value to significance level\n",
    "alpha = 0.01\n",
    "if p_value <= alpha:\n",
    "    print(\"Reject null hypothesis. The claim is not justified.\")\n",
    "else:\n",
    "    print(\"Fail to reject null hypothesis. The claim is justified.\")\n"
   ]
  },
  {
   "cell_type": "code",
   "execution_count": 7,
   "id": "609dc0c4-5af3-4441-b159-6000804335df",
   "metadata": {},
   "outputs": [
    {
     "name": "stdout",
     "output_type": "stream",
     "text": [
      "(1.25, 1.3541666666666667)\n"
     ]
    }
   ],
   "source": [
    "'''Q6. Write a Python function that takes in the degrees of freedom for the numerator and denominator of an\n",
    "F-distribution and calculates the mean and variance of the distribution. The function should return the\n",
    "mean and variance as a tuple.'''\n",
    "def f_dist_mean_var(dfn, dfd):\n",
    "    \"\"\"\n",
    "    Calculate the mean and variance of an F-distribution.\n",
    "\n",
    "    Parameters:\n",
    "        dfn (int): degrees of freedom for numerator\n",
    "        dfd (int): degrees of freedom for denominator\n",
    "\n",
    "    Returns:\n",
    "        tuple: (mean, variance)\n",
    "    \"\"\"\n",
    "    mean = dfd / (dfd - 2)\n",
    "    variance = 2 * dfd**2 * (dfn + dfd - 2) / (dfn * (dfd - 2)**2 * (dfd - 4))\n",
    "    return mean, variance\n",
    "print(f_dist_mean_var(5, 10))\n"
   ]
  },
  {
   "cell_type": "code",
   "execution_count": 8,
   "id": "82df4f3c-4ca0-4acc-9618-8f053c370021",
   "metadata": {},
   "outputs": [
    {
     "name": "stdout",
     "output_type": "stream",
     "text": [
      "F-statistic: 1.25\n",
      "Critical F-value: 0.2632997660331528\n",
      "p-value: 0.6832194382585954\n",
      "Fail to reject null hypothesis: Variances are not significantly different.\n"
     ]
    }
   ],
   "source": [
    "'''Q7. A random sample of 10 measurements is taken from a normal population with unknown variance. The\n",
    "sample variance is found to be 25. Another random sample of 15 measurements is taken from another\n",
    "normal population with unknown variance, and the sample variance is found to be 20. Conduct an F-test\n",
    "at the 10% significance level to determine if the variances are significantly different.'''\n",
    "from scipy import stats\n",
    "\n",
    "# Sample 1\n",
    "n1 = 10\n",
    "s1_squared = 25\n",
    "\n",
    "# Sample 2\n",
    "n2 = 15\n",
    "s2_squared = 20\n",
    "\n",
    "# Degrees of freedom\n",
    "df1 = n1 - 1\n",
    "df2 = n2 - 1\n",
    "\n",
    "# F-statistic\n",
    "F = s1_squared / s2_squared\n",
    "\n",
    "# Critical F-value\n",
    "F_critical = stats.f.ppf(0.05/2, df1, df2)\n",
    "\n",
    "# p-value\n",
    "p_value = 2 * (1 - stats.f.cdf(F, df1, df2))\n",
    "\n",
    "# Print results\n",
    "print(\"F-statistic:\", F)\n",
    "print(\"Critical F-value:\", F_critical)\n",
    "print(\"p-value:\", p_value)\n",
    "\n",
    "if p_value < 0.1:\n",
    "    print(\"Reject null hypothesis: Variances are significantly different.\")\n",
    "else:\n",
    "    print(\"Fail to reject null hypothesis: Variances are not significantly different.\")\n"
   ]
  },
  {
   "cell_type": "code",
   "execution_count": null,
   "id": "7fc512d6-cf2e-4445-9151-572fbe145dd9",
   "metadata": {},
   "outputs": [],
   "source": [
    "'''Q8. The following data represent the waiting times in minutes at two different restaurants on a Saturday\n",
    "night: Restaurant A: 24, 25, 28, 23, 22, 20, 27; Restaurant B: 31, 33, 35, 30, 32, 36. Conduct an F-test at the 5%\n",
    "significance level to determine if the variances are significantly different.'''\n"
   ]
  }
 ],
 "metadata": {
  "kernelspec": {
   "display_name": "Python 3 (ipykernel)",
   "language": "python",
   "name": "python3"
  },
  "language_info": {
   "codemirror_mode": {
    "name": "ipython",
    "version": 3
   },
   "file_extension": ".py",
   "mimetype": "text/x-python",
   "name": "python",
   "nbconvert_exporter": "python",
   "pygments_lexer": "ipython3",
   "version": "3.10.8"
  }
 },
 "nbformat": 4,
 "nbformat_minor": 5
}
